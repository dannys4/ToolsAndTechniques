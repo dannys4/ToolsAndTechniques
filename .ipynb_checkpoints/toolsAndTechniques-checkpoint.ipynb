{
 "cells": [
  {
   "cell_type": "code",
   "execution_count": 1,
   "metadata": {},
   "outputs": [
    {
     "name": "stderr",
     "output_type": "stream",
     "text": [
      "\u001b[32m\u001b[1m Activating\u001b[22m\u001b[39m environment at `~/ToolsAndTechniques/ToolsTechniques/Project.toml`\n"
     ]
    }
   ],
   "source": [
    "using Pkg; Pkg.activate(\"ToolsTechniques\");"
   ]
  },
  {
   "cell_type": "code",
   "execution_count": 2,
   "metadata": {},
   "outputs": [
    {
     "name": "stderr",
     "output_type": "stream",
     "text": [
      "\u001b[32m\u001b[1m  Resolving\u001b[22m\u001b[39m package versions...\n",
      "\u001b[32m\u001b[1m   Updating\u001b[22m\u001b[39m `~/ToolsAndTechniques/ToolsTechniques/Project.toml`\n",
      "\u001b[90m [no changes]\u001b[39m\n",
      "\u001b[32m\u001b[1m   Updating\u001b[22m\u001b[39m `~/ToolsAndTechniques/ToolsTechniques/Manifest.toml`\n",
      "\u001b[90m [no changes]\u001b[39m\n"
     ]
    }
   ],
   "source": [
    "Pkg.add([\"DataFrames\",\n",
    "         \"Images\",\n",
    "         \"ImageMagick\",\n",
    "         \"ImageBinarization\",\n",
    "         \"MLJ\",\n",
    "         \"Random\",\n",
    "         \"StatsBase\",\n",
    "         \"PrettyPrint\",\n",
    "         \"CategoricalArrays\",\n",
    "         \"Plots\",\n",
    "         \"DecisionTree\"]);"
   ]
  },
  {
   "cell_type": "code",
   "execution_count": 3,
   "metadata": {},
   "outputs": [],
   "source": [
    "using DataFrames, Images, MLJ, Random, StatsBase, PrettyPrint, CategoricalArrays, Plots, ImageBinarization"
   ]
  },
  {
   "cell_type": "code",
   "execution_count": 4,
   "metadata": {},
   "outputs": [
    {
     "data": {
      "image/png": "[encoded data removed]",
      "text/plain": [
       "236×213 Array{Gray{N0f8},2} with eltype Gray{Normed{UInt8,8}}:\n",
       " Gray{N0f8}(0.941)  Gray{N0f8}(0.941)  …  Gray{N0f8}(0.91)\n",
       " Gray{N0f8}(0.937)  Gray{N0f8}(0.937)     Gray{N0f8}(0.91)\n",
       " Gray{N0f8}(0.937)  Gray{N0f8}(0.937)     Gray{N0f8}(0.91)\n",
       " Gray{N0f8}(0.933)  Gray{N0f8}(0.933)     Gray{N0f8}(0.91)\n",
       " Gray{N0f8}(0.929)  Gray{N0f8}(0.929)     Gray{N0f8}(0.914)\n",
       " Gray{N0f8}(0.925)  Gray{N0f8}(0.925)  …  Gray{N0f8}(0.914)\n",
       " Gray{N0f8}(0.922)  Gray{N0f8}(0.922)     Gray{N0f8}(0.914)\n",
       " Gray{N0f8}(0.922)  Gray{N0f8}(0.922)     Gray{N0f8}(0.918)\n",
       " Gray{N0f8}(0.929)  Gray{N0f8}(0.929)     Gray{N0f8}(0.91)\n",
       " Gray{N0f8}(0.929)  Gray{N0f8}(0.929)     Gray{N0f8}(0.91)\n",
       " Gray{N0f8}(0.925)  Gray{N0f8}(0.925)  …  Gray{N0f8}(0.91)\n",
       " Gray{N0f8}(0.922)  Gray{N0f8}(0.922)     Gray{N0f8}(0.91)\n",
       " Gray{N0f8}(0.918)  Gray{N0f8}(0.918)     Gray{N0f8}(0.91)\n",
       " ⋮                                     ⋱  \n",
       " Gray{N0f8}(0.871)  Gray{N0f8}(0.871)     Gray{N0f8}(0.851)\n",
       " Gray{N0f8}(0.871)  Gray{N0f8}(0.871)  …  Gray{N0f8}(0.843)\n",
       " Gray{N0f8}(0.867)  Gray{N0f8}(0.867)     Gray{N0f8}(0.831)\n",
       " Gray{N0f8}(0.867)  Gray{N0f8}(0.867)     Gray{N0f8}(0.824)\n",
       " Gray{N0f8}(0.863)  Gray{N0f8}(0.863)     Gray{N0f8}(0.824)\n",
       " Gray{N0f8}(0.863)  Gray{N0f8}(0.863)     Gray{N0f8}(0.831)\n",
       " Gray{N0f8}(0.859)  Gray{N0f8}(0.859)  …  Gray{N0f8}(0.843)\n",
       " Gray{N0f8}(0.859)  Gray{N0f8}(0.859)     Gray{N0f8}(0.851)\n",
       " Gray{N0f8}(0.859)  Gray{N0f8}(0.859)     Gray{N0f8}(0.847)\n",
       " Gray{N0f8}(0.859)  Gray{N0f8}(0.859)     Gray{N0f8}(0.847)\n",
       " Gray{N0f8}(0.859)  Gray{N0f8}(0.859)     Gray{N0f8}(0.847)\n",
       " Gray{N0f8}(0.859)  Gray{N0f8}(0.859)  …  Gray{N0f8}(0.847)"
      ]
     },
     "execution_count": 4,
     "metadata": {},
     "output_type": "execute_result"
    }
   ],
   "source": [
    "img1 = Images.load(\"binarize.jpg\")"
   ]
  },
  {
   "cell_type": "code",
   "execution_count": 5,
   "metadata": {},
   "outputs": [
    {
     "data": {
      "text/plain": [
       "bernsen"
      ]
     },
     "execution_count": 5,
     "metadata": {},
     "output_type": "execute_result"
    }
   ],
   "source": [
    "\"\"\"\n",
    "    bernsen(img, rad, ij, contrast) -> neighborhood, pixel_val\n",
    "Binarize (or threshhold) an image via local windows\n",
    "\n",
    "# Arguments\n",
    "    `img::Matrix{UInt8}`- The image to binarize\n",
    "    `rad::Int`- The radius of the window\n",
    "    `ij::CartesianIndex`- The row of the window's center pixel\n",
    "    `contrast::UInt8`- The contrast level (Application-specific, default is 0x03)\n",
    "\n",
    "# Returns\n",
    "    `pix_val::UInt8`- 0x00 or 0xFF, which corresponds to whether the pixel is black or white\n",
    "\n",
    "\"\"\"\n",
    "function bernsen(img::Matrix{UInt8}, r::Int, ij::CartesianIndex{2}, c::UInt8=0x03)::Tuple{Vector,Bool}\n",
    "    \n",
    "    # Build an rxr neighborhood around (i,j)\n",
    "    delta = CartesianIndices((-r:r, -r:r));\n",
    "    nhood = img[ij .+ delta];\n",
    "    # Get the minimum and maximum in that neighborhood\n",
    "    Zmin,Zmax = extrema(nhood);\n",
    "    # Make a local threshhold\n",
    "    thresh = (Zmin+Zmax)/2;\n",
    "    # If there is a large contrast\n",
    "    if (Zmax - Zmin) >= c\n",
    "        # Use the average of min and max as the threshhold\n",
    "        return nhood[:], (img[ij] >= thresh);\n",
    "    end\n",
    "    # Otherwise, check if the average is high or low\n",
    "    return nhood[:], (thresh >= 128);\n",
    "end"
   ]
  },
  {
   "cell_type": "code",
   "execution_count": 6,
   "metadata": {},
   "outputs": [
    {
     "name": "stdout",
     "output_type": "stream",
     "text": [
      "search: \u001b[0m\u001b[1mb\u001b[22m\u001b[0m\u001b[1me\u001b[22m\u001b[0m\u001b[1mr\u001b[22m\u001b[0m\u001b[1mn\u001b[22m\u001b[0m\u001b[1ms\u001b[22m\u001b[0m\u001b[1me\u001b[22m\u001b[0m\u001b[1mn\u001b[22m\n",
      "\n"
     ]
    },
    {
     "data": {
      "text/latex": [
       "\\begin{verbatim}\n",
       "bernsen(img, rad, ij, contrast) -> neighborhood, pixel_val\n",
       "\\end{verbatim}\n",
       "Binarize (or threshhold) an image via local windows\n",
       "\n",
       "\\section{Arguments}\n",
       "\\begin{verbatim}\n",
       "`img::Matrix{UInt8}`- The image to binarize\n",
       "`rad::Int`- The radius of the window\n",
       "`ij::CartesianIndex`- The row of the window's center pixel\n",
       "`contrast::UInt8`- The contrast level (Application-specific, default is 0x03)\n",
       "\\end{verbatim}\n",
       "\\section{Returns}\n",
       "\\begin{verbatim}\n",
       "`pix_val::UInt8`- 0x00 or 0xFF, which corresponds to whether the pixel is black or white\n",
       "\\end{verbatim}\n"
      ],
      "text/markdown": [
       "```\n",
       "bernsen(img, rad, ij, contrast) -> neighborhood, pixel_val\n",
       "```\n",
       "\n",
       "Binarize (or threshhold) an image via local windows\n",
       "\n",
       "# Arguments\n",
       "\n",
       "```\n",
       "`img::Matrix{UInt8}`- The image to binarize\n",
       "`rad::Int`- The radius of the window\n",
       "`ij::CartesianIndex`- The row of the window's center pixel\n",
       "`contrast::UInt8`- The contrast level (Application-specific, default is 0x03)\n",
       "```\n",
       "\n",
       "# Returns\n",
       "\n",
       "```\n",
       "`pix_val::UInt8`- 0x00 or 0xFF, which corresponds to whether the pixel is black or white\n",
       "```\n"
      ],
      "text/plain": [
       "\u001b[36m  bernsen(img, rad, ij, contrast) -> neighborhood, pixel_val\u001b[39m\n",
       "\n",
       "  Binarize (or threshhold) an image via local windows\n",
       "\n",
       "\u001b[1m  Arguments\u001b[22m\n",
       "\u001b[1m  ≡≡≡≡≡≡≡≡≡≡≡\u001b[22m\n",
       "\n",
       "\u001b[36m  `img::Matrix{UInt8}`- The image to binarize\u001b[39m\n",
       "\u001b[36m  `rad::Int`- The radius of the window\u001b[39m\n",
       "\u001b[36m  `ij::CartesianIndex`- The row of the window's center pixel\u001b[39m\n",
       "\u001b[36m  `contrast::UInt8`- The contrast level (Application-specific, default is 0x03)\u001b[39m\n",
       "\n",
       "\u001b[1m  Returns\u001b[22m\n",
       "\u001b[1m  ≡≡≡≡≡≡≡≡≡\u001b[22m\n",
       "\n",
       "\u001b[36m  `pix_val::UInt8`- 0x00 or 0xFF, which corresponds to whether the pixel is black or white\u001b[39m"
      ]
     },
     "execution_count": 6,
     "metadata": {},
     "output_type": "execute_result"
    }
   ],
   "source": [
    "?bernsen"
   ]
  },
  {
   "cell_type": "code",
   "execution_count": 7,
   "metadata": {},
   "outputs": [
    {
     "data": {
      "text/plain": [
       "Array{Gray{Normed{UInt8,8}},2}"
      ]
     },
     "execution_count": 7,
     "metadata": {},
     "output_type": "execute_result"
    }
   ],
   "source": [
    "typeof(img1)"
   ]
  },
  {
   "cell_type": "code",
   "execution_count": 8,
   "metadata": {},
   "outputs": [
    {
     "data": {
      "text/plain": [
       "236×213 reinterpret(UInt8, ::Array{Gray{N0f8},2}):\n",
       " 0xf0  0xf0  0xf0  0xf0  0xf1  0xf1  …  0xeb  0xe2  0xe3  0xe5  0xe7  0xe8\n",
       " 0xef  0xef  0xf0  0xf0  0xf1  0xf1     0xe9  0xe3  0xe4  0xe5  0xe7  0xe8\n",
       " 0xef  0xef  0xef  0xef  0xf0  0xf0     0xe7  0xe5  0xe6  0xe7  0xe7  0xe8\n",
       " 0xee  0xee  0xee  0xef  0xef  0xef     0xe9  0xe7  0xe8  0xe8  0xe8  0xe8\n",
       " 0xed  0xed  0xed  0xee  0xee  0xee     0xeb  0xea  0xea  0xe9  0xe9  0xe9\n",
       " 0xec  0xec  0xec  0xed  0xed  0xed  …  0xeb  0xec  0xec  0xeb  0xea  0xe9\n",
       " 0xeb  0xeb  0xec  0xec  0xec  0xed     0xe7  0xee  0xed  0xec  0xea  0xe9\n",
       " 0xeb  0xeb  0xeb  0xec  0xec  0xec     0xe2  0xef  0xee  0xec  0xeb  0xea\n",
       " 0xed  0xed  0xed  0xed  0xed  0xed     0xeb  0xea  0xea  0xe9  0xe9  0xe8\n",
       " 0xed  0xed  0xed  0xed  0xed  0xed     0xeb  0xea  0xea  0xe9  0xe9  0xe8\n",
       " 0xec  0xec  0xec  0xec  0xec  0xec  …  0xea  0xea  0xea  0xe9  0xe9  0xe8\n",
       " 0xeb  0xeb  0xeb  0xeb  0xeb  0xeb     0xea  0xea  0xea  0xe9  0xe9  0xe8\n",
       " 0xea  0xea  0xea  0xea  0xea  0xea     0xe9  0xea  0xea  0xe9  0xe9  0xe8\n",
       "    ⋮                             ⋮  ⋱                       ⋮        \n",
       " 0xde  0xde  0xde  0xdf  0xdf  0xdf     0xde  0xd6  0xdb  0xde  0xdc  0xd9\n",
       " 0xde  0xde  0xde  0xde  0xdf  0xdf  …  0xde  0xd7  0xdb  0xdd  0xdb  0xd7\n",
       " 0xdd  0xdd  0xde  0xde  0xde  0xdf     0xdd  0xd8  0xdb  0xdc  0xd9  0xd4\n",
       " 0xdd  0xdd  0xdd  0xdd  0xde  0xde     0xdd  0xd9  0xdb  0xdc  0xd8  0xd2\n",
       " 0xdc  0xdc  0xdd  0xdd  0xdd  0xde     0xdc  0xd9  0xdb  0xdc  0xd8  0xd2\n",
       " 0xdc  0xdc  0xdc  0xdc  0xdd  0xdd     0xdc  0xd8  0xdb  0xdc  0xd9  0xd4\n",
       " 0xdb  0xdb  0xdc  0xdc  0xdc  0xdd  …  0xdb  0xd7  0xdb  0xdd  0xdb  0xd7\n",
       " 0xdb  0xdb  0xdb  0xdc  0xdc  0xdd     0xdb  0xd6  0xdb  0xde  0xdc  0xd9\n",
       " 0xdb  0xdb  0xdc  0xdc  0xdc  0xdd     0xd4  0xd9  0xd9  0xd8  0xd8  0xd8\n",
       " 0xdb  0xdb  0xdc  0xdc  0xdc  0xdd     0xd5  0xd9  0xd9  0xd8  0xd8  0xd8\n",
       " 0xdb  0xdb  0xdc  0xdc  0xdc  0xdd     0xd7  0xd9  0xd9  0xd8  0xd8  0xd8\n",
       " 0xdb  0xdb  0xdc  0xdc  0xdc  0xdd  …  0xd8  0xd9  0xd9  0xd8  0xd8  0xd8"
      ]
     },
     "execution_count": 8,
     "metadata": {},
     "output_type": "execute_result"
    }
   ],
   "source": [
    "reinterpret(UInt8, img1)"
   ]
  },
  {
   "cell_type": "code",
   "execution_count": 26,
   "metadata": {},
   "outputs": [
    {
     "data": {
      "text/plain": [
       "apply_bernsen (generic function with 2 methods)"
      ]
     },
     "execution_count": 26,
     "metadata": {},
     "output_type": "execute_result"
    }
   ],
   "source": [
    "function apply_bernsen(img::Matrix{UInt8}, r::Int, c::UInt8=0x02)\n",
    "    idxs = CartesianIndices(img[r+1:end-r, r+1:end-r]);\n",
    "    idxs_sz = size(idxs);\n",
    "    result = Matrix(undef, idxs_sz[1], idxs_sz[2]);\n",
    "    \n",
    "    for ij in idxs\n",
    "        result[ij] = bernsen(img, r, ij + CartesianIndex(r,r), c);\n",
    "    end\n",
    "    \n",
    "    features = hcat([x[1] for x in result[:]]...)';\n",
    "    img_bin = [x[2] for x in result];\n",
    "    labels = img_bin[:];\n",
    "    return features, labels, Matrix{Gray{Bool}}(img_bin);\n",
    "end"
   ]
  },
  {
   "cell_type": "code",
   "execution_count": 27,
   "metadata": {},
   "outputs": [
    {
     "data": {
      "image/png": "[encoded data removed]",
      "text/plain": [
       "226×619 Array{Gray{N0f8},2} with eltype Gray{Normed{UInt8,8}}:\n",
       " Gray{N0f8}(0.929)  Gray{N0f8}(0.933)  …  Gray{N0f8}(1.0)  Gray{N0f8}(1.0)\n",
       " Gray{N0f8}(0.929)  Gray{N0f8}(0.929)     Gray{N0f8}(1.0)  Gray{N0f8}(1.0)\n",
       " Gray{N0f8}(0.925)  Gray{N0f8}(0.929)     Gray{N0f8}(1.0)  Gray{N0f8}(1.0)\n",
       " Gray{N0f8}(0.929)  Gray{N0f8}(0.929)     Gray{N0f8}(1.0)  Gray{N0f8}(1.0)\n",
       " Gray{N0f8}(0.929)  Gray{N0f8}(0.929)     Gray{N0f8}(1.0)  Gray{N0f8}(1.0)\n",
       " Gray{N0f8}(0.925)  Gray{N0f8}(0.925)  …  Gray{N0f8}(1.0)  Gray{N0f8}(1.0)\n",
       " Gray{N0f8}(0.922)  Gray{N0f8}(0.922)     Gray{N0f8}(1.0)  Gray{N0f8}(1.0)\n",
       " Gray{N0f8}(0.918)  Gray{N0f8}(0.918)     Gray{N0f8}(1.0)  Gray{N0f8}(1.0)\n",
       " Gray{N0f8}(0.918)  Gray{N0f8}(0.918)     Gray{N0f8}(1.0)  Gray{N0f8}(1.0)\n",
       " Gray{N0f8}(0.914)  Gray{N0f8}(0.914)     Gray{N0f8}(1.0)  Gray{N0f8}(1.0)\n",
       " Gray{N0f8}(0.91)   Gray{N0f8}(0.91)   …  Gray{N0f8}(1.0)  Gray{N0f8}(1.0)\n",
       " Gray{N0f8}(0.922)  Gray{N0f8}(0.922)     Gray{N0f8}(1.0)  Gray{N0f8}(1.0)\n",
       " Gray{N0f8}(0.898)  Gray{N0f8}(0.902)     Gray{N0f8}(1.0)  Gray{N0f8}(1.0)\n",
       " ⋮                                     ⋱                   \n",
       " Gray{N0f8}(0.875)  Gray{N0f8}(0.875)     Gray{N0f8}(1.0)  Gray{N0f8}(1.0)\n",
       " Gray{N0f8}(0.875)  Gray{N0f8}(0.875)  …  Gray{N0f8}(1.0)  Gray{N0f8}(1.0)\n",
       " Gray{N0f8}(0.875)  Gray{N0f8}(0.875)     Gray{N0f8}(1.0)  Gray{N0f8}(1.0)\n",
       " Gray{N0f8}(0.875)  Gray{N0f8}(0.875)     Gray{N0f8}(1.0)  Gray{N0f8}(1.0)\n",
       " Gray{N0f8}(0.875)  Gray{N0f8}(0.875)     Gray{N0f8}(1.0)  Gray{N0f8}(1.0)\n",
       " Gray{N0f8}(0.875)  Gray{N0f8}(0.878)     Gray{N0f8}(1.0)  Gray{N0f8}(1.0)\n",
       " Gray{N0f8}(0.875)  Gray{N0f8}(0.875)  …  Gray{N0f8}(1.0)  Gray{N0f8}(1.0)\n",
       " Gray{N0f8}(0.875)  Gray{N0f8}(0.875)     Gray{N0f8}(1.0)  Gray{N0f8}(1.0)\n",
       " Gray{N0f8}(0.871)  Gray{N0f8}(0.875)     Gray{N0f8}(1.0)  Gray{N0f8}(1.0)\n",
       " Gray{N0f8}(0.871)  Gray{N0f8}(0.871)     Gray{N0f8}(1.0)  Gray{N0f8}(1.0)\n",
       " Gray{N0f8}(0.867)  Gray{N0f8}(0.867)     Gray{N0f8}(1.0)  Gray{N0f8}(1.0)\n",
       " Gray{N0f8}(0.867)  Gray{N0f8}(0.867)  …  Gray{N0f8}(1.0)  Gray{N0f8}(1.0)"
      ]
     },
     "execution_count": 27,
     "metadata": {},
     "output_type": "execute_result"
    }
   ],
   "source": [
    "img1_array = Matrix{UInt8}(reinterpret(UInt8, img1));\n",
    "# Set radius equal to 5\n",
    "rad = 5;\n",
    "\n",
    "img1_old = img1[rad+1:end-rad, rad+1:end-rad];\n",
    "img1_feat, img1_lab, img1_new = apply_bernsen(img1_array, rad);\n",
    "border = zeros(Gray{Bool},(size(img1_old,1),5));\n",
    "hcat(img1_old, border, img1_new, border, binarize(img1_old, Yen()))"
   ]
  },
  {
   "cell_type": "code",
   "execution_count": 32,
   "metadata": {},
   "outputs": [],
   "source": [
    "white_idxs = findall(img1_lab);\n",
    "black_idxs = setdiff(1:length(img1_lab), white_idxs);\n",
    "n_resample = 10000;\n",
    "white_resample = sample(white_idxs, n_resample);\n",
    "black_resample = sample(black_idxs, n_resample);\n",
    "img1_lab_resample = vcat(img1_lab[black_resample], img1_lab[white_resample]);\n",
    "img1_feat_resample = vcat(img1_feat[black_resample,:], img1_feat[white_resample,:]);\n",
    "\n",
    "perm_rows = shuffle(1:2*n_resample);\n",
    "img1_feat = img1_feat_resample[perm_rows,:];\n",
    "img1_lab = img1_lab_resample[perm_rows];"
   ]
  },
  {
   "cell_type": "code",
   "execution_count": 13,
   "metadata": {},
   "outputs": [
    {
     "data": {
      "text/plain": [
       "DecisionTreeClassifier(\n",
       "    max_depth = -1,\n",
       "    min_samples_leaf = 1,\n",
       "    min_samples_split = 2,\n",
       "    min_purity_increase = 0.0,\n",
       "    n_subfeatures = 0,\n",
       "    post_prune = false,\n",
       "    merge_purity_threshold = 1.0,\n",
       "    pdf_smoothing = 0.0,\n",
       "    display_depth = 5)\u001b[34m @ 1…18\u001b[39m"
      ]
     },
     "execution_count": 13,
     "metadata": {},
     "output_type": "execute_result"
    }
   ],
   "source": [
    "DT = @load DecisionTreeClassifier"
   ]
  },
  {
   "cell_type": "code",
   "execution_count": null,
   "metadata": {},
   "outputs": [
    {
     "name": "stderr",
     "output_type": "stream",
     "text": [
      "┌ Info: No measure specified. Setting measure=cross_entropy. \n",
      "└ @ MLJTuning /home/dannys4/.julia/packages/MLJTuning/JZ7ZX/src/tuned_models.jl:215\n",
      "┌ Info: Training \u001b[34mMachine{ProbabilisticTunedModel{Grid,…}} @ 1…25\u001b[39m.\n",
      "└ @ MLJBase /home/dannys4/.julia/packages/MLJBase/8HOpr/src/machines.jl:187\n",
      "┌ Info: Attempting to evaluate 30 models.\n",
      "└ @ MLJTuning /home/dannys4/.julia/packages/MLJTuning/JZ7ZX/src/tuned_models.jl:501\n",
      "\u001b[33mEvaluating over 30 metamodels:  10%[==>                      ]  ETA: 0:08:21\u001b[39m"
     ]
    }
   ],
   "source": [
    "prop_train = 0.8\n",
    "forest = EnsembleModel(atom = DecisionTreeClassifier());\n",
    "forest.atom.n_subfeatures = Int(floor(sqrt(size(img1_feat,2))));\n",
    "m = machine(forest, DataFrame(img1_feat), CategoricalArray(img1_lab));\n",
    "r = range(forest, :n, lower=10, upper=1000);\n",
    "curves = learning_curve!(m, resampling=Holdout(fraction_train=prop_train), range=r);\n",
    "Plots.plot(curves.parameter_values, curves.measurements)"
   ]
  }
 ],
 "metadata": {
  "kernelspec": {
   "display_name": "Julia 1.4.1",
   "language": "julia",
   "name": "julia-1.4"
  },
  "language_info": {
   "file_extension": ".jl",
   "mimetype": "application/julia",
   "name": "julia",
   "version": "1.4.1"
  }
 },
 "nbformat": 4,
 "nbformat_minor": 4
}
